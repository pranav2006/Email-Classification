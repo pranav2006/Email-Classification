{
 "cells": [
  {
   "cell_type": "code",
   "execution_count": 2,
   "id": "37ccb4e3-6d13-49d8-8beb-cab7c9b0fbce",
   "metadata": {},
   "outputs": [
    {
     "data": {
      "text/html": [
       "<div>\n",
       "<style scoped>\n",
       "    .dataframe tbody tr th:only-of-type {\n",
       "        vertical-align: middle;\n",
       "    }\n",
       "\n",
       "    .dataframe tbody tr th {\n",
       "        vertical-align: top;\n",
       "    }\n",
       "\n",
       "    .dataframe thead th {\n",
       "        text-align: right;\n",
       "    }\n",
       "</style>\n",
       "<table border=\"1\" class=\"dataframe\">\n",
       "  <thead>\n",
       "    <tr style=\"text-align: right;\">\n",
       "      <th></th>\n",
       "      <th>Category</th>\n",
       "      <th>Message</th>\n",
       "    </tr>\n",
       "  </thead>\n",
       "  <tbody>\n",
       "    <tr>\n",
       "      <th>0</th>\n",
       "      <td>ham</td>\n",
       "      <td>Go until jurong point, crazy.. Available only ...</td>\n",
       "    </tr>\n",
       "    <tr>\n",
       "      <th>1</th>\n",
       "      <td>ham</td>\n",
       "      <td>Ok lar... Joking wif u oni...</td>\n",
       "    </tr>\n",
       "    <tr>\n",
       "      <th>2</th>\n",
       "      <td>spam</td>\n",
       "      <td>Free entry in 2 a wkly comp to win FA Cup fina...</td>\n",
       "    </tr>\n",
       "    <tr>\n",
       "      <th>3</th>\n",
       "      <td>ham</td>\n",
       "      <td>U dun say so early hor... U c already then say...</td>\n",
       "    </tr>\n",
       "    <tr>\n",
       "      <th>4</th>\n",
       "      <td>ham</td>\n",
       "      <td>Nah I don't think he goes to usf, he lives aro...</td>\n",
       "    </tr>\n",
       "  </tbody>\n",
       "</table>\n",
       "</div>"
      ],
      "text/plain": [
       "  Category                                            Message\n",
       "0      ham  Go until jurong point, crazy.. Available only ...\n",
       "1      ham                      Ok lar... Joking wif u oni...\n",
       "2     spam  Free entry in 2 a wkly comp to win FA Cup fina...\n",
       "3      ham  U dun say so early hor... U c already then say...\n",
       "4      ham  Nah I don't think he goes to usf, he lives aro..."
      ]
     },
     "execution_count": 2,
     "metadata": {},
     "output_type": "execute_result"
    }
   ],
   "source": [
    "import tensorflow as tf\n",
    "import tensorflow_hub as hub\n",
    "import tensorflow_text as text\n",
    "import pandas as pd\n",
    "\n",
    "df = pd.read_csv(\"spam.csv\")\n",
    "df.head(5)"
   ]
  },
  {
   "cell_type": "code",
   "execution_count": 3,
   "id": "73af0be9-1807-4f34-83c0-8bca1df8de43",
   "metadata": {},
   "outputs": [
    {
     "data": {
      "text/html": [
       "<div>\n",
       "<style scoped>\n",
       "    .dataframe tbody tr th:only-of-type {\n",
       "        vertical-align: middle;\n",
       "    }\n",
       "\n",
       "    .dataframe tbody tr th {\n",
       "        vertical-align: top;\n",
       "    }\n",
       "\n",
       "    .dataframe thead tr th {\n",
       "        text-align: left;\n",
       "    }\n",
       "\n",
       "    .dataframe thead tr:last-of-type th {\n",
       "        text-align: right;\n",
       "    }\n",
       "</style>\n",
       "<table border=\"1\" class=\"dataframe\">\n",
       "  <thead>\n",
       "    <tr>\n",
       "      <th></th>\n",
       "      <th colspan=\"4\" halign=\"left\">Message</th>\n",
       "    </tr>\n",
       "    <tr>\n",
       "      <th></th>\n",
       "      <th>count</th>\n",
       "      <th>unique</th>\n",
       "      <th>top</th>\n",
       "      <th>freq</th>\n",
       "    </tr>\n",
       "    <tr>\n",
       "      <th>Category</th>\n",
       "      <th></th>\n",
       "      <th></th>\n",
       "      <th></th>\n",
       "      <th></th>\n",
       "    </tr>\n",
       "  </thead>\n",
       "  <tbody>\n",
       "    <tr>\n",
       "      <th>ham</th>\n",
       "      <td>4825</td>\n",
       "      <td>4516</td>\n",
       "      <td>Sorry, I'll call later</td>\n",
       "      <td>30</td>\n",
       "    </tr>\n",
       "    <tr>\n",
       "      <th>spam</th>\n",
       "      <td>747</td>\n",
       "      <td>641</td>\n",
       "      <td>Please call our customer service representativ...</td>\n",
       "      <td>4</td>\n",
       "    </tr>\n",
       "  </tbody>\n",
       "</table>\n",
       "</div>"
      ],
      "text/plain": [
       "         Message                                                            \\\n",
       "           count unique                                                top   \n",
       "Category                                                                     \n",
       "ham         4825   4516                             Sorry, I'll call later   \n",
       "spam         747    641  Please call our customer service representativ...   \n",
       "\n",
       "               \n",
       "         freq  \n",
       "Category       \n",
       "ham        30  \n",
       "spam        4  "
      ]
     },
     "execution_count": 3,
     "metadata": {},
     "output_type": "execute_result"
    }
   ],
   "source": [
    "df.groupby('Category').describe()"
   ]
  },
  {
   "cell_type": "code",
   "execution_count": 4,
   "id": "854f7b4f-c99b-4bec-899e-f7864232b16d",
   "metadata": {},
   "outputs": [
    {
     "data": {
      "text/plain": [
       "Category\n",
       "ham     4825\n",
       "spam     747\n",
       "Name: count, dtype: int64"
      ]
     },
     "execution_count": 4,
     "metadata": {},
     "output_type": "execute_result"
    }
   ],
   "source": [
    "df.Category.value_counts()"
   ]
  },
  {
   "cell_type": "code",
   "execution_count": 5,
   "id": "0911e06e-b566-4169-bae6-e93e2a677764",
   "metadata": {},
   "outputs": [
    {
     "data": {
      "text/plain": [
       "(747, 2)"
      ]
     },
     "execution_count": 5,
     "metadata": {},
     "output_type": "execute_result"
    }
   ],
   "source": [
    "df_spam=df[df[\"Category\"]==\"spam\"]\n",
    "df_spam.shape"
   ]
  },
  {
   "cell_type": "code",
   "execution_count": 6,
   "id": "d20d02d3-04ab-479e-80c0-efd3763f9fb8",
   "metadata": {},
   "outputs": [
    {
     "data": {
      "text/plain": [
       "(4825, 2)"
      ]
     },
     "execution_count": 6,
     "metadata": {},
     "output_type": "execute_result"
    }
   ],
   "source": [
    "df_ham=df[df[\"Category\"]==\"ham\"]\n",
    "df_ham.shape"
   ]
  },
  {
   "cell_type": "code",
   "execution_count": 7,
   "id": "d33de274-ae55-4702-a110-45a6c6a2efdc",
   "metadata": {},
   "outputs": [],
   "source": [
    "df_ham=df_ham.sample(df_spam.shape[0])"
   ]
  },
  {
   "cell_type": "code",
   "execution_count": 8,
   "id": "0c54fdbc-2ded-48ea-861a-233aeaadcfef",
   "metadata": {},
   "outputs": [
    {
     "data": {
      "text/plain": [
       "(747, 2)"
      ]
     },
     "execution_count": 8,
     "metadata": {},
     "output_type": "execute_result"
    }
   ],
   "source": [
    "df_ham.shape"
   ]
  },
  {
   "cell_type": "code",
   "execution_count": 9,
   "id": "fbc21cc8-d3fe-46b4-9996-3db49fcd6e83",
   "metadata": {},
   "outputs": [
    {
     "data": {
      "text/plain": [
       "(1494, 2)"
      ]
     },
     "execution_count": 9,
     "metadata": {},
     "output_type": "execute_result"
    }
   ],
   "source": [
    "df_balanced=pd.concat([df_ham,df_spam])\n",
    "df_balanced.shape"
   ]
  },
  {
   "cell_type": "code",
   "execution_count": 10,
   "id": "c0f32495-a765-450a-96fa-1c5224a35572",
   "metadata": {},
   "outputs": [
    {
     "data": {
      "text/html": [
       "<div>\n",
       "<style scoped>\n",
       "    .dataframe tbody tr th:only-of-type {\n",
       "        vertical-align: middle;\n",
       "    }\n",
       "\n",
       "    .dataframe tbody tr th {\n",
       "        vertical-align: top;\n",
       "    }\n",
       "\n",
       "    .dataframe thead th {\n",
       "        text-align: right;\n",
       "    }\n",
       "</style>\n",
       "<table border=\"1\" class=\"dataframe\">\n",
       "  <thead>\n",
       "    <tr style=\"text-align: right;\">\n",
       "      <th></th>\n",
       "      <th>Category</th>\n",
       "      <th>Message</th>\n",
       "      <th>spam</th>\n",
       "    </tr>\n",
       "  </thead>\n",
       "  <tbody>\n",
       "    <tr>\n",
       "      <th>2295</th>\n",
       "      <td>spam</td>\n",
       "      <td>You have 1 new message. Please call 08718738034.</td>\n",
       "      <td>1</td>\n",
       "    </tr>\n",
       "    <tr>\n",
       "      <th>3599</th>\n",
       "      <td>ham</td>\n",
       "      <td>Aight, we'll head out in a few</td>\n",
       "      <td>0</td>\n",
       "    </tr>\n",
       "    <tr>\n",
       "      <th>1719</th>\n",
       "      <td>ham</td>\n",
       "      <td>As in missionary hook up, doggy hook up, stand...</td>\n",
       "      <td>0</td>\n",
       "    </tr>\n",
       "    <tr>\n",
       "      <th>527</th>\n",
       "      <td>spam</td>\n",
       "      <td>Today's Offer! Claim ur £150 worth of discount...</td>\n",
       "      <td>1</td>\n",
       "    </tr>\n",
       "    <tr>\n",
       "      <th>1774</th>\n",
       "      <td>ham</td>\n",
       "      <td>I'm not coming over, do whatever you want</td>\n",
       "      <td>0</td>\n",
       "    </tr>\n",
       "  </tbody>\n",
       "</table>\n",
       "</div>"
      ],
      "text/plain": [
       "     Category                                            Message  spam\n",
       "2295     spam   You have 1 new message. Please call 08718738034.     1\n",
       "3599      ham                     Aight, we'll head out in a few     0\n",
       "1719      ham  As in missionary hook up, doggy hook up, stand...     0\n",
       "527      spam  Today's Offer! Claim ur £150 worth of discount...     1\n",
       "1774      ham          I'm not coming over, do whatever you want     0"
      ]
     },
     "execution_count": 10,
     "metadata": {},
     "output_type": "execute_result"
    }
   ],
   "source": [
    "df_balanced['spam']=df_balanced['Category'].apply(lambda x: 1 if x=='spam' else 0)\n",
    "df_balanced.sample(5)"
   ]
  },
  {
   "cell_type": "code",
   "execution_count": 11,
   "id": "ecda20c9-1bba-400c-b586-e3d7ff138538",
   "metadata": {},
   "outputs": [],
   "source": [
    "from sklearn.model_selection import train_test_split\n",
    "\n",
    "X_train, X_test, y_train, y_test = train_test_split(df_balanced['Message'],df_balanced['spam'], stratify=df_balanced['spam'])"
   ]
  },
  {
   "cell_type": "code",
   "execution_count": 12,
   "id": "12556899-e2be-4eba-97ad-2a9a4fa8ff56",
   "metadata": {},
   "outputs": [],
   "source": [
    "bert_preprocess = hub.KerasLayer(\"https://tfhub.dev/tensorflow/bert_en_uncased_preprocess/3\")\n",
    "bert_encoder = hub.KerasLayer(\"https://tfhub.dev/tensorflow/bert_en_uncased_L-12_H-768_A-12/4\")"
   ]
  },
  {
   "cell_type": "code",
   "execution_count": 13,
   "id": "afbe71cf-3617-42d6-b7d1-04efd46c1c52",
   "metadata": {},
   "outputs": [
    {
     "name": "stdout",
     "output_type": "stream",
     "text": [
      "Model: \"model\"\n",
      "__________________________________________________________________________________________________\n",
      " Layer (type)                   Output Shape         Param #     Connected to                     \n",
      "==================================================================================================\n",
      " text (InputLayer)              [(None,)]            0           []                               \n",
      "                                                                                                  \n",
      " keras_layer (KerasLayer)       {'input_mask': (Non  0           ['text[0][0]']                   \n",
      "                                e, 128),                                                          \n",
      "                                 'input_word_ids':                                                \n",
      "                                (None, 128),                                                      \n",
      "                                 'input_type_ids':                                                \n",
      "                                (None, 128)}                                                      \n",
      "                                                                                                  \n",
      " keras_layer_1 (KerasLayer)     {'sequence_output':  109482241   ['keras_layer[0][0]',            \n",
      "                                 (None, 128, 768),                'keras_layer[0][1]',            \n",
      "                                 'default': (None,                'keras_layer[0][2]']            \n",
      "                                768),                                                             \n",
      "                                 'pooled_output': (                                               \n",
      "                                None, 768),                                                       \n",
      "                                 'encoder_outputs':                                               \n",
      "                                 [(None, 128, 768),                                               \n",
      "                                 (None, 128, 768),                                                \n",
      "                                 (None, 128, 768),                                                \n",
      "                                 (None, 128, 768),                                                \n",
      "                                 (None, 128, 768),                                                \n",
      "                                 (None, 128, 768),                                                \n",
      "                                 (None, 128, 768),                                                \n",
      "                                 (None, 128, 768),                                                \n",
      "                                 (None, 128, 768),                                                \n",
      "                                 (None, 128, 768),                                                \n",
      "                                 (None, 128, 768),                                                \n",
      "                                 (None, 128, 768)]}                                               \n",
      "                                                                                                  \n",
      " dropout (Dropout)              (None, 768)          0           ['keras_layer_1[0][13]']         \n",
      "                                                                                                  \n",
      " dense (Dense)                  (None, 10)           7690        ['dropout[0][0]']                \n",
      "                                                                                                  \n",
      " dense_1 (Dense)                (None, 1)            11          ['dense[0][0]']                  \n",
      "                                                                                                  \n",
      "==================================================================================================\n",
      "Total params: 109,489,942\n",
      "Trainable params: 7,701\n",
      "Non-trainable params: 109,482,241\n",
      "__________________________________________________________________________________________________\n"
     ]
    }
   ],
   "source": [
    "inputs=tf.keras.layers.Input(shape=(),dtype=tf.string, name='text')\n",
    "preprocessed_text=bert_preprocess(inputs)\n",
    "outputs=bert_encoder(preprocessed_text)\n",
    "l=tf.keras.layers.Dropout(0.2,name='dropout')(outputs['pooled_output'])\n",
    "l=tf.keras.layers.Dense(10,activation='relu')(l)\n",
    "l=tf.keras.layers.Dense(1,activation='sigmoid')(l)\n",
    "model = tf.keras.Model(inputs=[inputs], outputs = [l])\n",
    "model.summary()"
   ]
  },
  {
   "cell_type": "code",
   "execution_count": 14,
   "id": "84b32b7b-569f-425c-9e5b-6f0560f2ac9a",
   "metadata": {},
   "outputs": [],
   "source": [
    "METRICS = [\n",
    "    tf.keras.metrics.BinaryAccuracy(name='accuracy'),\n",
    "    tf.keras.metrics.Precision(name='precision'),\n",
    "    tf.keras.metrics.Recall(name='recall')\n",
    "]\n",
    "\n",
    "model.compile(optimizer='adam',\n",
    "              loss='binary_crossentropy',\n",
    "              metrics=METRICS)"
   ]
  },
  {
   "cell_type": "code",
   "execution_count": 15,
   "id": "07be618c-8c1b-41e1-8714-e6abafac6980",
   "metadata": {},
   "outputs": [
    {
     "name": "stdout",
     "output_type": "stream",
     "text": [
      "Epoch 1/15\n",
      "35/35 [==============================] - 24s 284ms/step - loss: 0.5151 - accuracy: 0.7563 - precision: 0.7420 - recall: 0.7857\n",
      "Epoch 2/15\n",
      "35/35 [==============================] - 10s 287ms/step - loss: 0.3651 - accuracy: 0.8598 - precision: 0.8468 - recall: 0.8786\n",
      "Epoch 3/15\n",
      "35/35 [==============================] - 10s 289ms/step - loss: 0.2900 - accuracy: 0.8911 - precision: 0.8883 - recall: 0.8946\n",
      "Epoch 4/15\n",
      "35/35 [==============================] - 10s 294ms/step - loss: 0.2642 - accuracy: 0.9018 - precision: 0.8961 - recall: 0.9089\n",
      "Epoch 5/15\n",
      "35/35 [==============================] - 10s 287ms/step - loss: 0.2415 - accuracy: 0.9205 - precision: 0.9153 - recall: 0.9268\n",
      "Epoch 6/15\n",
      "35/35 [==============================] - 10s 285ms/step - loss: 0.2255 - accuracy: 0.9241 - precision: 0.9234 - recall: 0.9250\n",
      "Epoch 7/15\n",
      "35/35 [==============================] - 10s 289ms/step - loss: 0.2084 - accuracy: 0.9321 - precision: 0.9276 - recall: 0.9375\n",
      "Epoch 8/15\n",
      "35/35 [==============================] - 10s 289ms/step - loss: 0.1969 - accuracy: 0.9312 - precision: 0.9305 - recall: 0.9321\n",
      "Epoch 9/15\n",
      "35/35 [==============================] - 10s 285ms/step - loss: 0.1984 - accuracy: 0.9286 - precision: 0.9332 - recall: 0.9232\n",
      "Epoch 10/15\n",
      "35/35 [==============================] - 10s 293ms/step - loss: 0.1825 - accuracy: 0.9429 - precision: 0.9413 - recall: 0.9446\n",
      "Epoch 11/15\n",
      "35/35 [==============================] - 10s 289ms/step - loss: 0.1718 - accuracy: 0.9518 - precision: 0.9518 - recall: 0.9518\n",
      "Epoch 12/15\n",
      "35/35 [==============================] - 10s 286ms/step - loss: 0.1755 - accuracy: 0.9393 - precision: 0.9473 - recall: 0.9304\n",
      "Epoch 13/15\n",
      "35/35 [==============================] - 10s 286ms/step - loss: 0.1701 - accuracy: 0.9464 - precision: 0.9433 - recall: 0.9500\n",
      "Epoch 14/15\n",
      "35/35 [==============================] - 10s 295ms/step - loss: 0.1591 - accuracy: 0.9500 - precision: 0.9532 - recall: 0.9464\n",
      "Epoch 15/15\n",
      "35/35 [==============================] - 10s 295ms/step - loss: 0.1724 - accuracy: 0.9438 - precision: 0.9477 - recall: 0.9393\n"
     ]
    },
    {
     "data": {
      "text/plain": [
       "<keras.callbacks.History at 0x1d807204520>"
      ]
     },
     "execution_count": 15,
     "metadata": {},
     "output_type": "execute_result"
    }
   ],
   "source": [
    "model.fit(X_train, y_train, epochs=15)"
   ]
  },
  {
   "cell_type": "code",
   "execution_count": 16,
   "id": "edcf41e8-e747-41fe-825e-ca10140ef70c",
   "metadata": {},
   "outputs": [
    {
     "name": "stdout",
     "output_type": "stream",
     "text": [
      "12/12 [==============================] - 5s 266ms/step - loss: 0.1767 - accuracy: 0.9385 - precision: 0.9020 - recall: 0.9840\n"
     ]
    },
    {
     "data": {
      "text/plain": [
       "[0.17668908834457397,\n",
       " 0.9385026693344116,\n",
       " 0.9019607901573181,\n",
       " 0.9839572310447693]"
      ]
     },
     "execution_count": 16,
     "metadata": {},
     "output_type": "execute_result"
    }
   ],
   "source": [
    "model.evaluate(X_test, y_test)"
   ]
  },
  {
   "cell_type": "code",
   "execution_count": 17,
   "id": "85fcb212-0af6-497d-8faf-fc642273753d",
   "metadata": {},
   "outputs": [
    {
     "name": "stdout",
     "output_type": "stream",
     "text": [
      "12/12 [==============================] - 4s 269ms/step\n"
     ]
    }
   ],
   "source": [
    "y_predicted = model.predict(X_test)\n",
    "y_predicted=y_predicted.flatten()"
   ]
  },
  {
   "cell_type": "code",
   "execution_count": 18,
   "id": "0d9db605-dd20-4622-b4ac-4184a9078113",
   "metadata": {
    "scrolled": true
   },
   "outputs": [
    {
     "data": {
      "text/plain": [
       "array([0.9985684 , 0.9976083 , 0.97212493, 0.072776  , 0.02063523,\n",
       "       0.00469569, 0.9920145 , 0.86576104, 0.00634834, 0.9711464 ,\n",
       "       0.7257449 , 0.321752  , 0.99453473, 0.08535752, 0.98310065,\n",
       "       0.97424525, 0.9913101 , 0.06968976, 0.94986176, 0.04528719,\n",
       "       0.42801598, 0.9891642 , 0.98354304, 0.04185627, 0.96899295,\n",
       "       0.02576111, 0.9690597 , 0.01149353, 0.02919071, 0.01715755,\n",
       "       0.00569441, 0.40740243, 0.01130754, 0.4905461 , 0.9984956 ,\n",
       "       0.98959327, 0.01769374, 0.99564385, 0.8917455 , 0.16775471,\n",
       "       0.00307934, 0.99480224, 0.03367708, 0.99739134, 0.09887516,\n",
       "       0.43782496, 0.9984627 , 0.9967141 , 0.43586904, 0.0920416 ,\n",
       "       0.01041265, 0.99448204, 0.01242864, 0.9927825 , 0.9964031 ,\n",
       "       0.9896367 , 0.9864618 , 0.94388115, 0.98530364, 0.03182113,\n",
       "       0.00437213, 0.9805313 , 0.04565312, 0.9971275 , 0.999728  ,\n",
       "       0.01282858, 0.85036653, 0.38318   , 0.17635004, 0.00666687,\n",
       "       0.01768192, 0.9115618 , 0.8297041 , 0.9828351 , 0.97386336,\n",
       "       0.9955324 , 0.9992211 , 0.20709297, 0.9744246 , 0.615835  ,\n",
       "       0.987207  , 0.06454003, 0.01986395, 0.01731281, 0.27298388,\n",
       "       0.9539209 , 0.74909014, 0.29069355, 0.09618163, 0.00847397,\n",
       "       0.03915444, 0.00226697, 0.0749229 , 0.9866245 , 0.9988392 ,\n",
       "       0.02978614, 0.58457124, 0.0287522 , 0.99150884, 0.99676645,\n",
       "       0.9977481 , 0.00490896, 0.00435184, 0.99412537, 0.20700088,\n",
       "       0.9056568 , 0.3170564 , 0.9784807 , 0.1165071 , 0.9970464 ,\n",
       "       0.02172325, 0.14397798, 0.00446892, 0.9966016 , 0.7071864 ,\n",
       "       0.99653673, 0.98508155, 0.9995328 , 0.96326965, 0.00657062,\n",
       "       0.02762369, 0.08343227, 0.90106714, 0.9896852 , 0.97108287,\n",
       "       0.90454876, 0.995529  , 0.96899295, 0.08221215, 0.01916617,\n",
       "       0.9382583 , 0.99774784, 0.9924205 , 0.382132  , 0.00778943,\n",
       "       0.9783829 , 0.00674562, 0.58402526, 0.9917721 , 0.9961302 ,\n",
       "       0.97103757, 0.99921536, 0.3709556 , 0.08155768, 0.97549963,\n",
       "       0.3889226 , 0.16129208, 0.022497  , 0.0136709 , 0.9972398 ,\n",
       "       0.00567152, 0.9889746 , 0.0913613 , 0.059492  , 0.00707416,\n",
       "       0.10436843, 0.99699557, 0.02303278, 0.8928875 , 0.9491816 ,\n",
       "       0.9914535 , 0.9894238 , 0.9135939 , 0.03323815, 0.99794084,\n",
       "       0.8274784 , 0.9851366 , 0.8015518 , 0.3692003 , 0.05954845,\n",
       "       0.81287366, 0.28308985, 0.9719285 , 0.66171724, 0.9833605 ,\n",
       "       0.01011833, 0.9950564 , 0.9804483 , 0.9992435 , 0.01093977,\n",
       "       0.9975399 , 0.02524418, 0.99849415, 0.95354605, 0.97949   ,\n",
       "       0.9257642 , 0.01250528, 0.99700123, 0.20863892, 0.05719041,\n",
       "       0.98236036, 0.9933581 , 0.34170616, 0.99667656, 0.99991024,\n",
       "       0.01017019, 0.06926795, 0.9994702 , 0.9541941 , 0.9463593 ,\n",
       "       0.99699956, 0.9967519 , 0.04966329, 0.8589632 , 0.02753642,\n",
       "       0.35362306, 0.08619909, 0.04302578, 0.00517074, 0.21679674,\n",
       "       0.03921805, 0.01752558, 0.04176725, 0.02548854, 0.16108772,\n",
       "       0.9996619 , 0.93783945, 0.1659089 , 0.99126095, 0.7616223 ,\n",
       "       0.9367708 , 0.00900134, 0.99963236, 0.9984036 , 0.00561526,\n",
       "       0.9465815 , 0.97364455, 0.1376963 , 0.89279974, 0.08720545,\n",
       "       0.4271695 , 0.9964395 , 0.01094823, 0.99885356, 0.9992675 ,\n",
       "       0.10987889, 0.98843867, 0.01464983, 0.9791996 , 0.03448119,\n",
       "       0.05581034, 0.9793778 , 0.9859638 , 0.53981024, 0.99882895,\n",
       "       0.0233206 , 0.30384383, 0.01713534, 0.9976822 , 0.9924205 ,\n",
       "       0.13583188, 0.02237131, 0.9996315 , 0.03562832, 0.03648613,\n",
       "       0.24123976, 0.96899295, 0.00843497, 0.1293489 , 0.5574122 ,\n",
       "       0.05974047, 0.99178845, 0.99889696, 0.9994723 , 0.9211429 ,\n",
       "       0.55953914, 0.14527091, 0.22134905, 0.99483067, 0.9739875 ,\n",
       "       0.7330505 , 0.99152267, 0.21465294, 0.99059415, 0.15516879,\n",
       "       0.99142104, 0.9246098 , 0.9972262 , 0.9973111 , 0.04256421,\n",
       "       0.9939949 , 0.9989722 , 0.9990361 , 0.01228659, 0.9978003 ,\n",
       "       0.9917001 , 0.9567837 , 0.00674355, 0.9933037 , 0.99833447,\n",
       "       0.43124825, 0.22149228, 0.03239317, 0.99009866, 0.03219398,\n",
       "       0.99925   , 0.10930377, 0.9997154 , 0.04941939, 0.0887641 ,\n",
       "       0.06986796, 0.08663337, 0.99981016, 0.2535547 , 0.9858872 ,\n",
       "       0.00867513, 0.99515015, 0.09534188, 0.99719244, 0.01962286,\n",
       "       0.0091146 , 0.00591053, 0.94467413, 0.04923851, 0.0042034 ,\n",
       "       0.01064655, 0.99909854, 0.96522164, 0.99526924, 0.9842636 ,\n",
       "       0.99526924, 0.9680953 , 0.06165783, 0.00395003, 0.9950564 ,\n",
       "       0.10811792, 0.9910095 , 0.04102216, 0.98774636, 0.12647252,\n",
       "       0.5902302 , 0.9970651 , 0.96669847, 0.9775714 , 0.00424421,\n",
       "       0.9990804 , 0.0222097 , 0.99666375, 0.98828655, 0.79659337,\n",
       "       0.95392615, 0.9992267 , 0.10614099, 0.03380423, 0.92598987,\n",
       "       0.99713576, 0.9902636 , 0.9948533 , 0.9943674 , 0.03370157,\n",
       "       0.06304936, 0.4824283 , 0.8286956 , 0.00783937, 0.94185746,\n",
       "       0.998857  , 0.14391023, 0.09353444, 0.9737681 , 0.99865216,\n",
       "       0.01273465, 0.9979983 , 0.01018431, 0.24488929, 0.91563094,\n",
       "       0.99955446, 0.02567887, 0.9977906 , 0.9436069 , 0.9727509 ,\n",
       "       0.09746107, 0.6352085 , 0.01760608, 0.9990901 ], dtype=float32)"
      ]
     },
     "execution_count": 18,
     "metadata": {},
     "output_type": "execute_result"
    }
   ],
   "source": [
    "y_predicted"
   ]
  },
  {
   "cell_type": "code",
   "execution_count": 19,
   "id": "80a5b3ae-2770-499f-b59b-d8342f47e648",
   "metadata": {},
   "outputs": [
    {
     "data": {
      "text/plain": [
       "array([1, 1, 1, 0, 0, 0, 1, 1, 0, 1, 1, 0, 1, 0, 1, 1, 1, 0, 1, 0, 0, 1,\n",
       "       1, 0, 1, 0, 1, 0, 0, 0, 0, 0, 0, 0, 1, 1, 0, 1, 1, 0, 0, 1, 0, 1,\n",
       "       0, 0, 1, 1, 0, 0, 0, 1, 0, 1, 1, 1, 1, 1, 1, 0, 0, 1, 0, 1, 1, 0,\n",
       "       1, 0, 0, 0, 0, 1, 1, 1, 1, 1, 1, 0, 1, 1, 1, 0, 0, 0, 0, 1, 1, 0,\n",
       "       0, 0, 0, 0, 0, 1, 1, 0, 1, 0, 1, 1, 1, 0, 0, 1, 0, 1, 0, 1, 0, 1,\n",
       "       0, 0, 0, 1, 1, 1, 1, 1, 1, 0, 0, 0, 1, 1, 1, 1, 1, 1, 0, 0, 1, 1,\n",
       "       1, 0, 0, 1, 0, 1, 1, 1, 1, 1, 0, 0, 1, 0, 0, 0, 0, 1, 0, 1, 0, 0,\n",
       "       0, 0, 1, 0, 1, 1, 1, 1, 1, 0, 1, 1, 1, 1, 0, 0, 1, 0, 1, 1, 1, 0,\n",
       "       1, 1, 1, 0, 1, 0, 1, 1, 1, 1, 0, 1, 0, 0, 1, 1, 0, 1, 1, 0, 0, 1,\n",
       "       1, 1, 1, 1, 0, 1, 0, 0, 0, 0, 0, 0, 0, 0, 0, 0, 0, 1, 1, 0, 1, 1,\n",
       "       1, 0, 1, 1, 0, 1, 1, 0, 1, 0, 0, 1, 0, 1, 1, 0, 1, 0, 1, 0, 0, 1,\n",
       "       1, 1, 1, 0, 0, 0, 1, 1, 0, 0, 1, 0, 0, 0, 1, 0, 0, 1, 0, 1, 1, 1,\n",
       "       1, 1, 0, 0, 1, 1, 1, 1, 0, 1, 0, 1, 1, 1, 1, 0, 1, 1, 1, 0, 1, 1,\n",
       "       1, 0, 1, 1, 0, 0, 0, 1, 0, 1, 0, 1, 0, 0, 0, 0, 1, 0, 1, 0, 1, 0,\n",
       "       1, 0, 0, 0, 1, 0, 0, 0, 1, 1, 1, 1, 1, 1, 0, 0, 1, 0, 1, 0, 1, 0,\n",
       "       1, 1, 1, 1, 0, 1, 0, 1, 1, 1, 1, 1, 0, 0, 1, 1, 1, 1, 1, 0, 0, 0,\n",
       "       1, 0, 1, 1, 0, 0, 1, 1, 0, 1, 0, 0, 1, 1, 0, 1, 1, 1, 0, 1, 0, 1])"
      ]
     },
     "execution_count": 19,
     "metadata": {},
     "output_type": "execute_result"
    }
   ],
   "source": [
    "import numpy as np\n",
    "y_predicted=np.where(y_predicted>0.5,1,0)\n",
    "y_predicted"
   ]
  },
  {
   "cell_type": "code",
   "execution_count": 20,
   "id": "f06924a3-ca47-4801-b637-9c45d8357518",
   "metadata": {},
   "outputs": [
    {
     "data": {
      "text/plain": [
       "Text(50.722222222222214, 0.5, 'Truth')"
      ]
     },
     "execution_count": 20,
     "metadata": {},
     "output_type": "execute_result"
    },
    {
     "data": {
      "image/png": "[encoded data removed]",
      "text/plain": [
       "<Figure size 640x480 with 2 Axes>"
      ]
     },
     "metadata": {},
     "output_type": "display_data"
    }
   ],
   "source": [
    "from sklearn.metrics import confusion_matrix, classification_report\n",
    "from matplotlib import pyplot as plt\n",
    "import seaborn as sn\n",
    "\n",
    "cm = confusion_matrix(y_test, y_predicted)\n",
    "sn.heatmap(cm, annot=True, fmt='d')\n",
    "plt.xlabel('Predicted')\n",
    "plt.ylabel('Truth')"
   ]
  },
  {
   "cell_type": "code",
   "execution_count": 21,
   "id": "3ed399b7-3f7d-4085-8e8a-d86aa58fec96",
   "metadata": {},
   "outputs": [
    {
     "name": "stdout",
     "output_type": "stream",
     "text": [
      "              precision    recall  f1-score   support\n",
      "\n",
      "           0       0.98      0.89      0.94       187\n",
      "           1       0.90      0.98      0.94       187\n",
      "\n",
      "    accuracy                           0.94       374\n",
      "   macro avg       0.94      0.94      0.94       374\n",
      "weighted avg       0.94      0.94      0.94       374\n",
      "\n"
     ]
    }
   ],
   "source": [
    "print(classification_report(y_test, y_predicted))"
   ]
  },
  {
   "cell_type": "code",
   "execution_count": 22,
   "id": "593b1ee7-2c8c-438a-afe6-e2b1c3bec293",
   "metadata": {},
   "outputs": [],
   "source": [
    "model.save('email_model.h5')"
   ]
  },
  {
   "cell_type": "code",
   "execution_count": 23,
   "id": "23cfd1b5-9654-441b-82f4-c8514748d7ed",
   "metadata": {
    "scrolled": true
   },
   "outputs": [
    {
     "data": {
      "text/html": [
       "<div>\n",
       "<style scoped>\n",
       "    .dataframe tbody tr th:only-of-type {\n",
       "        vertical-align: middle;\n",
       "    }\n",
       "\n",
       "    .dataframe tbody tr th {\n",
       "        vertical-align: top;\n",
       "    }\n",
       "\n",
       "    .dataframe thead th {\n",
       "        text-align: right;\n",
       "    }\n",
       "</style>\n",
       "<table border=\"1\" class=\"dataframe\">\n",
       "  <thead>\n",
       "    <tr style=\"text-align: right;\">\n",
       "      <th></th>\n",
       "      <th>Category</th>\n",
       "      <th>Message</th>\n",
       "    </tr>\n",
       "  </thead>\n",
       "  <tbody>\n",
       "    <tr>\n",
       "      <th>2</th>\n",
       "      <td>spam</td>\n",
       "      <td>Free entry in 2 a wkly comp to win FA Cup fina...</td>\n",
       "    </tr>\n",
       "    <tr>\n",
       "      <th>5</th>\n",
       "      <td>spam</td>\n",
       "      <td>FreeMsg Hey there darling it's been 3 week's n...</td>\n",
       "    </tr>\n",
       "    <tr>\n",
       "      <th>8</th>\n",
       "      <td>spam</td>\n",
       "      <td>WINNER!! As a valued network customer you have...</td>\n",
       "    </tr>\n",
       "    <tr>\n",
       "      <th>9</th>\n",
       "      <td>spam</td>\n",
       "      <td>Had your mobile 11 months or more? U R entitle...</td>\n",
       "    </tr>\n",
       "    <tr>\n",
       "      <th>11</th>\n",
       "      <td>spam</td>\n",
       "      <td>SIX chances to win CASH! From 100 to 20,000 po...</td>\n",
       "    </tr>\n",
       "    <tr>\n",
       "      <th>12</th>\n",
       "      <td>spam</td>\n",
       "      <td>URGENT! You have won a 1 week FREE membership ...</td>\n",
       "    </tr>\n",
       "    <tr>\n",
       "      <th>15</th>\n",
       "      <td>spam</td>\n",
       "      <td>XXXMobileMovieClub: To use your credit, click ...</td>\n",
       "    </tr>\n",
       "    <tr>\n",
       "      <th>19</th>\n",
       "      <td>spam</td>\n",
       "      <td>England v Macedonia - dont miss the goals/team...</td>\n",
       "    </tr>\n",
       "    <tr>\n",
       "      <th>34</th>\n",
       "      <td>spam</td>\n",
       "      <td>Thanks for your subscription to Ringtone UK yo...</td>\n",
       "    </tr>\n",
       "    <tr>\n",
       "      <th>42</th>\n",
       "      <td>spam</td>\n",
       "      <td>07732584351 - Rodger Burns - MSG = We tried to...</td>\n",
       "    </tr>\n",
       "    <tr>\n",
       "      <th>54</th>\n",
       "      <td>spam</td>\n",
       "      <td>SMS. ac Sptv: The New Jersey Devils and the De...</td>\n",
       "    </tr>\n",
       "    <tr>\n",
       "      <th>56</th>\n",
       "      <td>spam</td>\n",
       "      <td>Congrats! 1 year special cinema pass for 2 is ...</td>\n",
       "    </tr>\n",
       "    <tr>\n",
       "      <th>65</th>\n",
       "      <td>spam</td>\n",
       "      <td>As a valued customer, I am pleased to advise y...</td>\n",
       "    </tr>\n",
       "    <tr>\n",
       "      <th>67</th>\n",
       "      <td>spam</td>\n",
       "      <td>Urgent UR awarded a complimentary trip to Euro...</td>\n",
       "    </tr>\n",
       "    <tr>\n",
       "      <th>68</th>\n",
       "      <td>spam</td>\n",
       "      <td>Did you hear about the new \"Divorce Barbie\"? I...</td>\n",
       "    </tr>\n",
       "    <tr>\n",
       "      <th>93</th>\n",
       "      <td>spam</td>\n",
       "      <td>Please call our customer service representativ...</td>\n",
       "    </tr>\n",
       "    <tr>\n",
       "      <th>95</th>\n",
       "      <td>spam</td>\n",
       "      <td>Your free ringtone is waiting to be collected....</td>\n",
       "    </tr>\n",
       "    <tr>\n",
       "      <th>114</th>\n",
       "      <td>spam</td>\n",
       "      <td>GENT! We are trying to contact you. Last weeke...</td>\n",
       "    </tr>\n",
       "    <tr>\n",
       "      <th>117</th>\n",
       "      <td>spam</td>\n",
       "      <td>You are a winner U have been specially selecte...</td>\n",
       "    </tr>\n",
       "    <tr>\n",
       "      <th>120</th>\n",
       "      <td>spam</td>\n",
       "      <td>PRIVATE! Your 2004 Account Statement for 07742...</td>\n",
       "    </tr>\n",
       "    <tr>\n",
       "      <th>121</th>\n",
       "      <td>spam</td>\n",
       "      <td>URGENT! Your Mobile No. was awarded £2000 Bonu...</td>\n",
       "    </tr>\n",
       "    <tr>\n",
       "      <th>123</th>\n",
       "      <td>spam</td>\n",
       "      <td>Todays Voda numbers ending 7548 are selected t...</td>\n",
       "    </tr>\n",
       "    <tr>\n",
       "      <th>134</th>\n",
       "      <td>spam</td>\n",
       "      <td>Sunshine Quiz Wkly Q! Win a top Sony DVD playe...</td>\n",
       "    </tr>\n",
       "    <tr>\n",
       "      <th>135</th>\n",
       "      <td>spam</td>\n",
       "      <td>Want 2 get laid tonight? Want real Dogging loc...</td>\n",
       "    </tr>\n",
       "    <tr>\n",
       "      <th>139</th>\n",
       "      <td>spam</td>\n",
       "      <td>You'll not rcv any more msgs from the chat svc...</td>\n",
       "    </tr>\n",
       "    <tr>\n",
       "      <th>147</th>\n",
       "      <td>spam</td>\n",
       "      <td>FreeMsg Why haven't you replied to my text? I'...</td>\n",
       "    </tr>\n",
       "    <tr>\n",
       "      <th>159</th>\n",
       "      <td>spam</td>\n",
       "      <td>Customer service annoncement. You have a New Y...</td>\n",
       "    </tr>\n",
       "    <tr>\n",
       "      <th>160</th>\n",
       "      <td>spam</td>\n",
       "      <td>You are a winner U have been specially selecte...</td>\n",
       "    </tr>\n",
       "    <tr>\n",
       "      <th>164</th>\n",
       "      <td>spam</td>\n",
       "      <td>-PLS STOP bootydelious (32/F) is inviting you ...</td>\n",
       "    </tr>\n",
       "    <tr>\n",
       "      <th>165</th>\n",
       "      <td>spam</td>\n",
       "      <td>BangBabes Ur order is on the way. U SHOULD rec...</td>\n",
       "    </tr>\n",
       "  </tbody>\n",
       "</table>\n",
       "</div>"
      ],
      "text/plain": [
       "    Category                                            Message\n",
       "2       spam  Free entry in 2 a wkly comp to win FA Cup fina...\n",
       "5       spam  FreeMsg Hey there darling it's been 3 week's n...\n",
       "8       spam  WINNER!! As a valued network customer you have...\n",
       "9       spam  Had your mobile 11 months or more? U R entitle...\n",
       "11      spam  SIX chances to win CASH! From 100 to 20,000 po...\n",
       "12      spam  URGENT! You have won a 1 week FREE membership ...\n",
       "15      spam  XXXMobileMovieClub: To use your credit, click ...\n",
       "19      spam  England v Macedonia - dont miss the goals/team...\n",
       "34      spam  Thanks for your subscription to Ringtone UK yo...\n",
       "42      spam  07732584351 - Rodger Burns - MSG = We tried to...\n",
       "54      spam  SMS. ac Sptv: The New Jersey Devils and the De...\n",
       "56      spam  Congrats! 1 year special cinema pass for 2 is ...\n",
       "65      spam  As a valued customer, I am pleased to advise y...\n",
       "67      spam  Urgent UR awarded a complimentary trip to Euro...\n",
       "68      spam  Did you hear about the new \"Divorce Barbie\"? I...\n",
       "93      spam  Please call our customer service representativ...\n",
       "95      spam  Your free ringtone is waiting to be collected....\n",
       "114     spam  GENT! We are trying to contact you. Last weeke...\n",
       "117     spam  You are a winner U have been specially selecte...\n",
       "120     spam  PRIVATE! Your 2004 Account Statement for 07742...\n",
       "121     spam  URGENT! Your Mobile No. was awarded £2000 Bonu...\n",
       "123     spam  Todays Voda numbers ending 7548 are selected t...\n",
       "134     spam  Sunshine Quiz Wkly Q! Win a top Sony DVD playe...\n",
       "135     spam  Want 2 get laid tonight? Want real Dogging loc...\n",
       "139     spam  You'll not rcv any more msgs from the chat svc...\n",
       "147     spam  FreeMsg Why haven't you replied to my text? I'...\n",
       "159     spam  Customer service annoncement. You have a New Y...\n",
       "160     spam  You are a winner U have been specially selecte...\n",
       "164     spam  -PLS STOP bootydelious (32/F) is inviting you ...\n",
       "165     spam  BangBabes Ur order is on the way. U SHOULD rec..."
      ]
     },
     "execution_count": 23,
     "metadata": {},
     "output_type": "execute_result"
    }
   ],
   "source": [
    "df_spam.head(30)"
   ]
  },
  {
   "cell_type": "code",
   "execution_count": 24,
   "id": "311232a1-a10b-4c26-a7b3-a503e491763e",
   "metadata": {},
   "outputs": [
    {
     "data": {
      "text/html": [
       "<div>\n",
       "<style scoped>\n",
       "    .dataframe tbody tr th:only-of-type {\n",
       "        vertical-align: middle;\n",
       "    }\n",
       "\n",
       "    .dataframe tbody tr th {\n",
       "        vertical-align: top;\n",
       "    }\n",
       "\n",
       "    .dataframe thead th {\n",
       "        text-align: right;\n",
       "    }\n",
       "</style>\n",
       "<table border=\"1\" class=\"dataframe\">\n",
       "  <thead>\n",
       "    <tr style=\"text-align: right;\">\n",
       "      <th></th>\n",
       "      <th>Category</th>\n",
       "      <th>Message</th>\n",
       "    </tr>\n",
       "  </thead>\n",
       "  <tbody>\n",
       "    <tr>\n",
       "      <th>3065</th>\n",
       "      <td>ham</td>\n",
       "      <td>Ok. How many should i buy.</td>\n",
       "    </tr>\n",
       "    <tr>\n",
       "      <th>4113</th>\n",
       "      <td>ham</td>\n",
       "      <td>I'll see, but prolly yeah</td>\n",
       "    </tr>\n",
       "    <tr>\n",
       "      <th>5480</th>\n",
       "      <td>ham</td>\n",
       "      <td>Have you seen who's back at Holby?!</td>\n",
       "    </tr>\n",
       "    <tr>\n",
       "      <th>3692</th>\n",
       "      <td>ham</td>\n",
       "      <td>Sir, i am waiting for your call, once free ple...</td>\n",
       "    </tr>\n",
       "    <tr>\n",
       "      <th>3243</th>\n",
       "      <td>ham</td>\n",
       "      <td>Good Morning my Dear........... Have a great &amp;...</td>\n",
       "    </tr>\n",
       "  </tbody>\n",
       "</table>\n",
       "</div>"
      ],
      "text/plain": [
       "     Category                                            Message\n",
       "3065      ham                         Ok. How many should i buy.\n",
       "4113      ham                          I'll see, but prolly yeah\n",
       "5480      ham                Have you seen who's back at Holby?!\n",
       "3692      ham  Sir, i am waiting for your call, once free ple...\n",
       "3243      ham  Good Morning my Dear........... Have a great &..."
      ]
     },
     "execution_count": 24,
     "metadata": {},
     "output_type": "execute_result"
    }
   ],
   "source": [
    "df_ham.head()"
   ]
  },
  {
   "cell_type": "code",
   "execution_count": null,
   "id": "a595584c-6ef1-4f00-8010-15598ca03516",
   "metadata": {},
   "outputs": [],
   "source": []
  }
 ],
 "metadata": {
  "kernelspec": {
   "display_name": "Python (TensorFlow 2.10)",
   "language": "python",
   "name": "py310"
  },
  "language_info": {
   "codemirror_mode": {
    "name": "ipython",
    "version": 3
   },
   "file_extension": ".py",
   "mimetype": "text/x-python",
   "name": "python",
   "nbconvert_exporter": "python",
   "pygments_lexer": "ipython3",
   "version": "3.10.16"
  }
 },
 "nbformat": 4,
 "nbformat_minor": 5
}
